{
 "cells": [
  {
   "cell_type": "code",
   "execution_count": 9,
   "id": "85ccc92e-88d1-4134-bf95-7cf50e258798",
   "metadata": {},
   "outputs": [
    {
     "name": "stdout",
     "output_type": "stream",
     "text": [
      "Requirement already satisfied: paho-mqtt in c:\\users\\sanket\\anaconda3\\lib\\site-packages (2.1.0)\n"
     ]
    }
   ],
   "source": [
    "!pip install paho-mqtt\n"
   ]
  },
  {
   "cell_type": "code",
   "execution_count": 10,
   "id": "55857eaa-9a58-4c8c-b930-a524ee87a052",
   "metadata": {},
   "outputs": [
    {
     "name": "stderr",
     "output_type": "stream",
     "text": [
      "C:\\Users\\Sanket\\AppData\\Local\\Temp\\ipykernel_18960\\952978718.py:14: DeprecationWarning: Callback API version 1 is deprecated, update to latest version\n",
      "  client = mqtt.Client()\n"
     ]
    },
    {
     "data": {
      "text/plain": [
       "<MQTTErrorCode.MQTT_ERR_SUCCESS: 0>"
      ]
     },
     "execution_count": 10,
     "metadata": {},
     "output_type": "execute_result"
    }
   ],
   "source": [
    "import random\n",
    "import time\n",
    "import paho.mqtt.client as mqtt\n",
    "\n",
    "# Station identity\n",
    "STATION_ID = \"station001\"\n",
    "\n",
    "# MQTT Broker (public HiveMQ broker for testing)\n",
    "BROKER = \"broker.hivemq.com\"\n",
    "PORT = 1883\n",
    "TOPIC_BASE = f\"iot/{STATION_ID}\"\n",
    "\n",
    "# Create MQTT client and connect\n",
    "client = mqtt.Client()\n",
    "client.connect(BROKER, PORT)\n"
   ]
  },
  {
   "cell_type": "code",
   "execution_count": 11,
   "id": "d0273cdb-b0bf-4437-8429-622e01ae36fd",
   "metadata": {},
   "outputs": [],
   "source": [
    "def generate_sensor_data():\n",
    "    temperature = round(random.uniform(-50, 50), 2)\n",
    "    humidity = round(random.uniform(0, 100), 2)\n",
    "    co2 = round(random.uniform(300, 2000), 2)\n",
    "    return temperature, humidity, co2\n"
   ]
  },
  {
   "cell_type": "code",
   "execution_count": 12,
   "id": "72fafb17-e312-4598-8c43-0fd488eb639d",
   "metadata": {},
   "outputs": [
    {
     "name": "stdout",
     "output_type": "stream",
     "text": [
      "Publishing to iot/station001/environment: 1.88,5.52,1742.43\n"
     ]
    },
    {
     "data": {
      "text/plain": [
       "<paho.mqtt.client.MQTTMessageInfo at 0x24eb2024130>"
      ]
     },
     "execution_count": 12,
     "metadata": {},
     "output_type": "execute_result"
    }
   ],
   "source": [
    "# Publish a single set of data (run this cell multiple times to test)\n",
    "temp, hum, co2 = generate_sensor_data()\n",
    "payload = f\"{temp},{hum},{co2}\"\n",
    "topic = f\"{TOPIC_BASE}/environment\"\n",
    "print(f\"Publishing to {topic}: {payload}\")\n",
    "client.publish(topic, payload)\n"
   ]
  },
  {
   "cell_type": "code",
   "execution_count": 13,
   "id": "85db1645-37aa-483e-80d3-f9c593a79a9a",
   "metadata": {},
   "outputs": [],
   "source": [
    "import requests\n",
    "\n",
    "THINGSPEAK_API_KEY = \"6XWQWLVQ7Y74R6G6\"\n",
    "\n",
    "def post_to_thingspeak(temp, hum, co2):\n",
    "    url = \"https://api.thingspeak.com/update\"\n",
    "    payload = {\n",
    "        \"api_key\": THINGSPEAK_API_KEY,\n",
    "        \"field1\": temp,\n",
    "        \"field2\": hum,\n",
    "        \"field3\": co2\n",
    "    }\n",
    "    response = requests.post(url, data=payload)\n",
    "    print(\"Uploaded to ThingSpeak:\", response.status_code)\n"
   ]
  },
  {
   "cell_type": "code",
   "execution_count": null,
   "id": "69cc2303-c939-44b1-b687-71258741c87f",
   "metadata": {},
   "outputs": [
    {
     "name": "stdout",
     "output_type": "stream",
     "text": [
      "Publishing to iot/station001/environment: -22.35,45.21,1414.43\n",
      "Uploaded to ThingSpeak: 200\n",
      "Publishing to iot/station001/environment: -37.21,72.58,548.49\n",
      "Uploaded to ThingSpeak: 200\n",
      "Publishing to iot/station001/environment: 29.09,86.02,1215.13\n",
      "Uploaded to ThingSpeak: 200\n",
      "Publishing to iot/station001/environment: 31.0,47.65,1936.76\n",
      "Uploaded to ThingSpeak: 200\n",
      "Publishing to iot/station001/environment: 30.02,78.44,1155.87\n",
      "Uploaded to ThingSpeak: 200\n"
     ]
    }
   ],
   "source": [
    "# Publish sensor data every 5 seconds (use Ctrl + I to interrupt in Jupyter)\n",
    "try:\n",
    "    while True:\n",
    "        temp, hum, co2 = generate_sensor_data()\n",
    "        payload = f\"{temp},{hum},{co2}\"\n",
    "        topic = f\"{TOPIC_BASE}/environment\"\n",
    "        print(f\"Publishing to {topic}: {payload}\")\n",
    "        client.publish(topic, payload)\n",
    "        post_to_thingspeak(temp, hum, co2)\n",
    "        time.sleep(5)\n",
    "except KeyboardInterrupt:\n",
    "    print(\"Stopped publishing.\")\n"
   ]
  },
  {
   "cell_type": "code",
   "execution_count": null,
   "id": "af4ea415-7634-4f2c-8184-80fff65eaa97",
   "metadata": {},
   "outputs": [],
   "source": [
    "import paho.mqtt.client as mqtt\n",
    "\n",
    "# Define callback for when a message is received\n",
    "def on_message(client, userdata, msg):\n",
    "    print(f\"Received message from topic `{msg.topic}`: {msg.payload.decode()}\")\n",
    "\n",
    "# Create MQTT client and configure callbacks\n",
    "subscriber = mqtt.Client()\n",
    "subscriber.on_message = on_message\n",
    "\n",
    "# Connect to the same broker\n",
    "subscriber.connect(\"broker.hivemq.com\", 1883)\n",
    "\n",
    "# Subscribe to the topic\n",
    "subscriber.subscribe(\"iot/station001/environment\")\n",
    "\n",
    "# Start listening for messages (non-blocking)\n",
    "subscriber.loop_start()\n"
   ]
  }
 ],
 "metadata": {
  "kernelspec": {
   "display_name": "Python [conda env:base] *",
   "language": "python",
   "name": "conda-base-py"
  },
  "language_info": {
   "codemirror_mode": {
    "name": "ipython",
    "version": 3
   },
   "file_extension": ".py",
   "mimetype": "text/x-python",
   "name": "python",
   "nbconvert_exporter": "python",
   "pygments_lexer": "ipython3",
   "version": "3.12.7"
  }
 },
 "nbformat": 4,
 "nbformat_minor": 5
}
